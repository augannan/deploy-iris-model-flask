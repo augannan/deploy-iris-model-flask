{
 "cells": [
  {
   "cell_type": "code",
   "execution_count": 1,
   "metadata": {},
   "outputs": [],
   "source": [
    "import numpy as np\n",
    "import pandas as pd\n",
    "from sklearn.preprocessing import LabelEncoder"
   ]
  },
  {
   "cell_type": "code",
   "execution_count": 2,
   "metadata": {},
   "outputs": [],
   "source": [
    "df = pd.read_csv('iris.data')\n",
    "\n",
    "X = df.iloc[:, 0:4].values\n",
    "y = df.iloc[:, 4:].values.reshape(-1,)"
   ]
  },
  {
   "cell_type": "code",
   "execution_count": 3,
   "metadata": {},
   "outputs": [],
   "source": [
    "le = LabelEncoder()\n",
    "y = le.fit_transform(y)"
   ]
  },
  {
   "cell_type": "code",
   "execution_count": 4,
   "metadata": {},
   "outputs": [],
   "source": [
    "from sklearn.model_selection import train_test_split\n",
    "X_train, X_test, y_train, y_test = train_test_split(X, y, test_size=0.2)"
   ]
  },
  {
   "cell_type": "code",
   "execution_count": 5,
   "metadata": {},
   "outputs": [],
   "source": [
    "from sklearn.svm import SVC\n",
    "sv = SVC(kernel='linear').fit(X_train,y_train)"
   ]
  },
  {
   "cell_type": "code",
   "execution_count": 6,
   "metadata": {},
   "outputs": [],
   "source": [
    "arr = np.array([[1.2, 2.3, 3.4, 4.4]])\n",
    "pred = sv.predict(arr)"
   ]
  },
  {
   "cell_type": "code",
   "execution_count": 7,
   "metadata": {},
   "outputs": [
    {
     "data": {
      "text/plain": [
       "array([2])"
      ]
     },
     "execution_count": 7,
     "metadata": {},
     "output_type": "execute_result"
    }
   ],
   "source": [
    "pred"
   ]
  },
  {
   "cell_type": "code",
   "execution_count": 28,
   "metadata": {},
   "outputs": [
    {
     "data": {
      "text/plain": [
       "array([1, 0, 0, 2, 0, 1, 2, 1, 0, 0, 1, 1, 2, 0, 0, 1, 1, 1, 2, 1, 1, 1,\n",
       "       1, 2, 2, 2, 2, 2, 2, 2, 1, 2, 1, 0, 0, 2, 2, 1, 0, 0, 2, 2, 1, 2,\n",
       "       0, 1, 2, 1, 2, 0, 2, 2, 0, 2, 2, 1, 2, 2, 0, 2, 0, 0, 1, 0, 2, 2,\n",
       "       0, 0, 0, 0, 0, 0, 2, 2, 0, 0, 1, 2, 1, 1, 1, 0, 2, 1, 1, 2, 0, 1,\n",
       "       2, 0, 1, 0, 0, 2, 1, 0, 1, 1, 0, 0, 1, 2, 1, 1, 1, 0, 2, 1, 2, 2,\n",
       "       0, 1, 0, 1, 2, 2, 0, 1, 2])"
      ]
     },
     "execution_count": 28,
     "metadata": {},
     "output_type": "execute_result"
    }
   ],
   "source": [
    "np.ravel(y_train)"
   ]
  },
  {
   "cell_type": "code",
   "execution_count": 8,
   "metadata": {},
   "outputs": [
    {
     "data": {
      "text/plain": [
       "array([2, 1, 0, 0, 0, 0, 0, 2, 0, 1, 2, 0, 2, 2, 0, 1, 1, 2, 0, 2, 0, 2,\n",
       "       1, 1, 0, 2, 1, 2, 1, 0, 0, 1, 1, 1, 2, 0, 2, 1, 2, 2, 0, 0, 1, 1,\n",
       "       2, 1, 2, 2, 2, 1, 0, 1, 1, 0, 2, 2, 1, 0, 2, 2, 2, 0, 0, 2, 0, 2,\n",
       "       0, 2, 0, 0, 1, 1, 1, 0, 0, 0, 2, 2, 2, 1, 1, 1, 2, 1, 0, 0, 1, 1,\n",
       "       1, 1, 0, 0, 0, 2, 1, 0, 1, 2, 2, 2, 1, 1, 0, 1, 2, 0, 1, 1, 0, 1,\n",
       "       1, 0, 0, 0, 0, 1, 0, 1, 2])"
      ]
     },
     "execution_count": 8,
     "metadata": {},
     "output_type": "execute_result"
    }
   ],
   "source": [
    "y_train"
   ]
  },
  {
   "cell_type": "code",
   "execution_count": null,
   "metadata": {},
   "outputs": [],
   "source": []
  }
 ],
 "metadata": {
  "kernelspec": {
   "display_name": "Python 3",
   "language": "python",
   "name": "python3"
  },
  "language_info": {
   "codemirror_mode": {
    "name": "ipython",
    "version": 3
   },
   "file_extension": ".py",
   "mimetype": "text/x-python",
   "name": "python",
   "nbconvert_exporter": "python",
   "pygments_lexer": "ipython3",
   "version": "3.8.5"
  }
 },
 "nbformat": 4,
 "nbformat_minor": 4
}
